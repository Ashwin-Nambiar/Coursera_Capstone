{
 "cells": [
  {
   "cell_type": "markdown",
   "metadata": {},
   "source": [
    "# The Battle of the Neighborhoods"
   ]
  },
  {
   "cell_type": "markdown",
   "metadata": {},
   "source": [
    "## Problem Description"
   ]
  },
  {
   "cell_type": "markdown",
   "metadata": {},
   "source": [
    "### A businessman wishes to open a farmers market in new york that will be able to provide groceries and other food items required to different types of restaurants in the area. Since New york has a population of almost 20 million people, Restaurants, Bakery,Cafe's etc are many in number. To place a market that could cater to all these venues would be highly profitable provided the location to open such a market should be known.\n",
    "\n",
    "### A strategic location to open a market in a neighbourhood with a lot of venues that require fresh materials is to found such that the business owner can set up shop and begin his new venture in the best possible way. Such a market can be of immense use to the local residents of the neighbourhood. A quality of service and quality of goods will ensure the markets viability in the long term.\n",
    "\n",
    "### The location of the market should be such that the cost of transportation should be minimized. Finding the right neighbourhood is to build such a market is the goal of this recommender system.\n",
    "\n",
    "\n",
    "### Note: We assume that the business owner wishes to open a market in one of the neighborhoods in Brooklyn."
   ]
  },
  {
   "cell_type": "markdown",
   "metadata": {},
   "source": [
    "## Data Required"
   ]
  },
  {
   "cell_type": "markdown",
   "metadata": {},
   "source": [
    "\n",
    "\n",
    "### 1.  We will need information about each  borough and the neighborhoods in that borough within New York.We will also require the coordinates i.e., the latitude and longitude of the neighbourhoods and boroughs. Since the businessman wishes to open the market in of the neighborhood in Brooklyn. We will first find all neighborhoods inside Brooklyn and their coordinates.\n",
    "\n",
    "### 2.  We will need data about different venues in different neighborhoods of that specific borough. In order to gain that information we will use \"Foursquare\" location information. For example there is a venue in one of the neighborhoods. Using Foursquare API we can obtain its precise latitude and longitude and also its distance from the center of the neighborhood. But we are looking for advanced information such as the category of that venue and whether this venue is a popular one in its category or maybe the average price of the services of this venue."
   ]
  },
  {
   "cell_type": "markdown",
   "metadata": {},
   "source": [
    "## Methodolgy"
   ]
  },
  {
   "cell_type": "markdown",
   "metadata": {},
   "source": [
    "### 1. Dataframe was created using json file which consisted data of the boroughs and neighborhoods in New York.\n",
    "\n",
    "### 2. Dataframe consisting of the neighborhoods in brooklyn only was created using the previous dataframe and map was created with the neighborhoods superimposed on it.\n",
    "\n",
    "### 3. Using Foursquare API , the location data of the top 100 venues was obtained and saved in form of a dataframe of all the neighborhoods in Brooklyn.\n",
    "\n",
    "### 4. Venues which could be provided supplies by the market was only included in the dataframe and one hot encoding was done to create a dataframe which would be further used for Analysis.\n",
    "\n",
    "### 5. K - Means Clustering is used to group the neighborhoods into 5 clusters and distance between each venue and its corresponding neighborhood center is obtained and conclusion is made.\n"
   ]
  },
  {
   "cell_type": "markdown",
   "metadata": {},
   "source": [
    "## Result"
   ]
  },
  {
   "cell_type": "markdown",
   "metadata": {},
   "source": [
    "### The following neighborhoods were recommended to open a market using the system built:\n"
   ]
  },
  {
   "cell_type": "markdown",
   "metadata": {},
   "source": [
    "1. Bay Bridge\n",
    "2. Clinton Hill\n",
    "3. Downtown\n",
    "4. Fort Greene\n",
    "5. South Side"
   ]
  },
  {
   "cell_type": "markdown",
   "metadata": {},
   "source": [
    "## Discussion"
   ]
  },
  {
   "cell_type": "markdown",
   "metadata": {},
   "source": [
    "### There are other neighborhoods that the system recommends but the ones mentioned in the result are the best possible locations. Other locations are mentioned below :\n"
   ]
  },
  {
   "cell_type": "markdown",
   "metadata": {},
   "source": [
    "### Second best neighborhoods to open a market are"
   ]
  },
  {
   "cell_type": "markdown",
   "metadata": {},
   "source": [
    "1. Brooklyn Heights\n",
    "2. Bushwick\n",
    "3. Carroll Gardens\n",
    "4. Cobble Hill\n",
    "5. Greenpoint\n",
    "6. North Side\n",
    "7. Park Slope\n",
    "8. Prospect Heights"
   ]
  },
  {
   "cell_type": "markdown",
   "metadata": {},
   "source": [
    "### Third best neighborhoods to open a market are"
   ]
  },
  {
   "cell_type": "markdown",
   "metadata": {},
   "source": [
    "1. Bath Beach\n",
    "2. Bensonhurst\n",
    "3. Boerum Hill\n",
    "4. Brighton Beach\n",
    "5. Ditmas Park\n",
    "6. Dumbo\n",
    "7. East Williamsburg\n",
    "8. Fort Hamilton\n",
    "9. Fulton Ferry\n",
    "10. Gowanus\n",
    "11. Homecrest\n",
    "12. Prospect Lefferts Gardens\n",
    "13. Prospect Park South"
   ]
  },
  {
   "cell_type": "markdown",
   "metadata": {},
   "source": [
    "## Conclusion"
   ]
  },
  {
   "cell_type": "markdown",
   "metadata": {},
   "source": [
    "### Using this system the business owner can choose the neighborhood that would be strategically placed for his venture. However the capital required to open his market would be subject to a different analysis as this system only gives recommendation of location based on the amount of venues that the market would be able to supply the materials."
   ]
  },
  {
   "cell_type": "markdown",
   "metadata": {},
   "source": [
    "Note: The system has given the recommendation based only on the data obtained Foursquare API which consists of information of the venues and its popularity. Information about the requirement of quantity of items that these venues would require which can be provided by the market is also important as it could determine the inflow of business by the market but since gathering this data is not feasible it was not included in this analysis. \n"
   ]
  }
 ],
 "metadata": {
  "kernelspec": {
   "display_name": "Python 3",
   "language": "python",
   "name": "python3"
  },
  "language_info": {
   "codemirror_mode": {
    "name": "ipython",
    "version": 3
   },
   "file_extension": ".py",
   "mimetype": "text/x-python",
   "name": "python",
   "nbconvert_exporter": "python",
   "pygments_lexer": "ipython3",
   "version": "3.7.3"
  }
 },
 "nbformat": 4,
 "nbformat_minor": 2
}
