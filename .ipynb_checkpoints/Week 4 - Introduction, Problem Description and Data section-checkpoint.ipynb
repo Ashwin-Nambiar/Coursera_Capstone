{
 "cells": [
  {
   "cell_type": "markdown",
   "metadata": {},
   "source": [
    "# The Battle of the Neighborhoods"
   ]
  },
  {
   "cell_type": "markdown",
   "metadata": {},
   "source": [
    "## Problem Description"
   ]
  },
  {
   "cell_type": "markdown",
   "metadata": {},
   "source": [
    "### A businessman wishes to open a farmers market in new york that will be able to provide groceries and other food items required to different types of restaurants in the area. Since New york has a population of almost 20 million people, Restaurants, Bakery,Cafe's etc are many in number. To place a market that could cater to all these venues would be highly profitable provided the location to open such a market should be known.\n",
    "\n",
    "### A strategic location to open a market in a neighbourhood with a lot of venues that require fresh materials is to found such that the business owner can set up shop and begin his new venture in the best possible way. Such a market can be of immense use to the local residents of the neighbourhood. A quality of service and quality of goods will ensure the markets viability in the long term.\n",
    "\n",
    "### The location of the market should be such that the cost of transportation should be minimized. Finding the right neighbourhood is to build such a market is the goal of this recommender system.\n",
    "\n",
    "\n",
    "### Note: We assume that the business owner wishes to open a market in one of the neighborhoods in Brooklyn."
   ]
  },
  {
   "cell_type": "markdown",
   "metadata": {},
   "source": [
    "## Data Required"
   ]
  },
  {
   "cell_type": "markdown",
   "metadata": {},
   "source": [
    "\n",
    "\n",
    "### 1.  We will need information about each  borough and the neighborhoods in that borough within New York.We will also require the coordinates i.e., the latitude and longitude of the neighbourhoods and boroughs. Since the businessman wishes to open the market in of the neighborhood in Brooklyn. We will first find all neighborhoods inside Brooklyn and their coordinates.\n",
    "\n",
    "### 2.  We will need data about different venues in different neighborhoods of that specific borough. In order to gain that information we will use \"Foursquare\" location information. For example there is a venue in one of the neighborhoods. Using Foursquare API we can obtain its precise latitude and longitude and also its distance from the center of the neighborhood. But we are looking for advanced information such as the category of that venue and whether this venue is a popular one in its category or maybe the average price of the services of this venue."
   ]
  },
  {
   "cell_type": "code",
   "execution_count": null,
   "metadata": {},
   "outputs": [],
   "source": []
  }
 ],
 "metadata": {
  "kernelspec": {
   "display_name": "Python 3",
   "language": "python",
   "name": "python3"
  },
  "language_info": {
   "codemirror_mode": {
    "name": "ipython",
    "version": 3
   },
   "file_extension": ".py",
   "mimetype": "text/x-python",
   "name": "python",
   "nbconvert_exporter": "python",
   "pygments_lexer": "ipython3",
   "version": "3.7.3"
  }
 },
 "nbformat": 4,
 "nbformat_minor": 2
}
